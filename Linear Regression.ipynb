{
  "nbformat": 4,
  "nbformat_minor": 0,
  "metadata": {
    "colab": {
      "name": "Untitled1.ipynb",
      "provenance": [],
      "authorship_tag": "ABX9TyO24TcCsUy3e0zgw2n5WauD",
      "include_colab_link": true
    },
    "kernelspec": {
      "name": "python3",
      "display_name": "Python 3"
    },
    "language_info": {
      "name": "python"
    }
  },
  "cells": [
    {
      "cell_type": "markdown",
      "metadata": {
        "id": "view-in-github",
        "colab_type": "text"
      },
      "source": [
        "<a href=\"https://colab.research.google.com/github/shubhangkhare/Statistical-Machine-Learning/blob/main/Linear%20Regression.ipynb\" target=\"_parent\"><img src=\"https://colab.research.google.com/assets/colab-badge.svg\" alt=\"Open In Colab\"/></a>"
      ]
    },
    {
      "cell_type": "markdown",
      "source": [
        "#1. INTRODUCTION\n",
        "Linear regression is the most well-known algorithm in statistical machine learning. Linear regression models the linear relationship between the input variables (X) and the output variable (Y). Based on the number of input variables, linear regression comes under two major categories:\n",
        "\n",
        "(i) Simple linear regression - Single input variable\n",
        "\n",
        "(ii) Multiple linear regression - Multiple input variables\n",
        "\n",
        "**NOTE:** There is always a single dependent output variable"
      ],
      "metadata": {
        "id": "YAk42Ho6SrcR"
      }
    },
    {
      "cell_type": "markdown",
      "source": [
        "# 2. THEORY\n",
        "## 2.1 Linear Regression Model\n",
        "A linear regression model is a line with equation Y = a + bX, where:\n",
        "\n",
        "X = input variable(s) (independent), \n",
        "\n",
        "Y = output variable (dependent), \n",
        "\n",
        "a = intercept (bias) of the line and \n",
        "\n",
        "b = slope (weight) of the line. \n",
        "## 2.2 Ordinary Least Squares\n",
        "The ordinary least-squares is the most common method to fit a linear regression model. Hence linear regression is often referred to as Ordinary Least Squares Linear Regression or Least Squares Regression. \n",
        "\n",
        "This method calculates the best-fitting line for the given data by minimizing the sum of the squares of the predicted output and actual output value. "
      ],
      "metadata": {
        "id": "jtHKGbGlS6Cn"
      }
    },
    {
      "cell_type": "code",
      "source": [
        ""
      ],
      "metadata": {
        "id": "5fUxf-tKStY9"
      },
      "execution_count": null,
      "outputs": []
    }
  ]
}